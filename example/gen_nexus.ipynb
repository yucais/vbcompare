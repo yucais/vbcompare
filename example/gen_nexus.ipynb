{
 "cells": [
  {
   "cell_type": "code",
   "execution_count": 12,
   "metadata": {},
   "outputs": [],
   "source": [
    "import numpy as np\n",
    "import random\n",
    "\n",
    "def replace_index(s, index, replacement):\n",
    "    s_list = list(s)\n",
    "    s_list[index] = replacement\n",
    "    return ''.join(s_list)"
   ]
  },
  {
   "cell_type": "code",
   "execution_count": 8,
   "metadata": {},
   "outputs": [],
   "source": [
    "N = 5000\n",
    "len_seq = 411\n",
    "replace = 10\n",
    "AGCT = {'A', 'G', 'C', 'T'}\n",
    "\n",
    "base_name = \"AF27\"\n",
    "space = \" \"*3\n",
    "base_seq = \"CTCTTGGCACTTCTTTCGTGCTTGACTGTCCCCGCTTCGGCCATCAACTACCGCAATGCTTCGGGCGTCTACCACGTCACCAACGACTGCCCGAATTCAAGCATAGTGTTTGAGGCCGACCATCACATCTTACACCTTCCAGGTTGCGTGCCCTGCGTGAGAGAGGGGAATCAGTCTCGTTGCTGGGTGGCTCTTACTCCTACTGTCGCAGCGCCACACATCGGCGCGCCGCTTGAATCCTTGCGGAGTCATGTGGATCTGATGGTGGGGGCTGCCACTGCTTGTTCGGCCCTTTACATCGGGGACTTGTGTGGCGGCTTGTTCTTGGTCGGTCAGATGTTCTCTTTCCGACCACGACGCCACTGGACTACCCAGGACTGCAATTGTTCTATCTATACAGGGCACATCACT\"\n",
    "\n",
    "preamble = f\"\"\"#NEXUS\n",
    "\n",
    "BEGIN DATA;\n",
    "DIMENSIONS  NTAX={N} NCHAR={len_seq};\n",
    "FORMAT DATATYPE=DNA GAP=- MISSING=?;\n",
    "MATRIX\n",
    "\n",
    "\"\"\"\n",
    "\n",
    "end = f\"\"\";\n",
    "\n",
    "END;\n",
    "\n",
    "BEGIN ASSUMPTIONS;\n",
    "EXSET * UNTITLED  = ;\n",
    "END;\n",
    "\n",
    "BEGIN CODONS;\n",
    "CODONPOSSET * CodonPositions =\n",
    " N:,\n",
    " 1: 1-409\\\\3,\n",
    " 2: 2-410\\\\3,\n",
    " 3: 3-411\\\\3;\n",
    "CODESET  * UNTITLED = Universal: all ;\n",
    "END;\n",
    "\n",
    "BEGIN SETS;\n",
    "END;\n",
    "\"\"\""
   ]
  },
  {
   "cell_type": "code",
   "execution_count": 9,
   "metadata": {},
   "outputs": [
    {
     "name": "stderr",
     "output_type": "stream",
     "text": [
      "/var/folders/ql/m00gvx9x7n569lrc2c86fcs00000gn/T/ipykernel_23280/2907931758.py:11: DeprecationWarning: Sampling from a set deprecated\n",
      "since Python 3.9 and will be removed in a subsequent version.\n",
      "  seq = replace_index(seq, j, random.sample(AGCT, 1)[0])\n"
     ]
    }
   ],
   "source": [
    "# generate nexus file randomly\n",
    "\n",
    "with open(f\"./test_{N}.nexus\", \"w\") as f:\n",
    "    f.write(preamble)\n",
    "    seq = base_seq\n",
    "    for i in range(N, 0, -1):\n",
    "        idx = f\"{i:04}\"\n",
    "        # random replace some places\n",
    "        for _ in range(replace):\n",
    "            j = np.random.randint(0, len_seq)\n",
    "            seq = replace_index(seq, j, random.sample(AGCT, 1)[0])\n",
    "        tag = f\"i_{np.random.randint(0, 10000):04}\"\n",
    "        line_to_write = base_name + idx + tag + space + seq + \"\\n\"\n",
    "        f.writelines(line_to_write)\n",
    "    f.write(end)"
   ]
  },
  {
   "cell_type": "code",
   "execution_count": 10,
   "metadata": {},
   "outputs": [],
   "source": [
    "# generate nexus file with existing tips\n"
   ]
  },
  {
   "cell_type": "code",
   "execution_count": 13,
   "metadata": {},
   "outputs": [
    {
     "name": "stderr",
     "output_type": "stream",
     "text": [
      "/var/folders/ql/m00gvx9x7n569lrc2c86fcs00000gn/T/ipykernel_23280/626965403.py:54: DeprecationWarning: Sampling from a set deprecated\n",
      "since Python 3.9 and will be removed in a subsequent version.\n",
      "  seq = replace_index(seq, j, random.sample(AGCT, 1)[0])\n"
     ]
    }
   ],
   "source": [
    "N = 16384\n",
    "\n",
    "with open(f\"./nodes_{N}.txt\", \"r\") as f:\n",
    "    tip_list=f.readline().split(',')\n",
    "\n",
    "tip_list = [t[1:-1] for t in tip_list]\n",
    "tip_list.sort(key=lambda t: int(t[1:]))\n",
    "\n",
    "len_seq = 411\n",
    "replace = 10\n",
    "AGCT = {'A', 'G', 'C', 'T'}\n",
    "\n",
    "space = \" \"*3\n",
    "base_seq = \"CTCTTGGCACTTCTTTCGTGCTTGACTGTCCCCGCTTCGGCCATCAACTACCGCAATGCTTCGGGCGTCTACCACGTCACCAACGACTGCCCGAATTCAAGCATAGTGTTTGAGGCCGACCATCACATCTTACACCTTCCAGGTTGCGTGCCCTGCGTGAGAGAGGGGAATCAGTCTCGTTGCTGGGTGGCTCTTACTCCTACTGTCGCAGCGCCACACATCGGCGCGCCGCTTGAATCCTTGCGGAGTCATGTGGATCTGATGGTGGGGGCTGCCACTGCTTGTTCGGCCCTTTACATCGGGGACTTGTGTGGCGGCTTGTTCTTGGTCGGTCAGATGTTCTCTTTCCGACCACGACGCCACTGGACTACCCAGGACTGCAATTGTTCTATCTATACAGGGCACATCACT\"\n",
    "\n",
    "preamble = f\"\"\"#NEXUS\n",
    "\n",
    "BEGIN DATA;\n",
    "DIMENSIONS  NTAX={N} NCHAR={len_seq};\n",
    "FORMAT DATATYPE=DNA GAP=- MISSING=?;\n",
    "MATRIX\n",
    "\n",
    "\"\"\"\n",
    "\n",
    "end = f\"\"\";\n",
    "\n",
    "END;\n",
    "\n",
    "BEGIN ASSUMPTIONS;\n",
    "EXSET * UNTITLED  = ;\n",
    "END;\n",
    "\n",
    "BEGIN CODONS;\n",
    "CODONPOSSET * CodonPositions =\n",
    " N:,\n",
    " 1: 1-409\\\\3,\n",
    " 2: 2-410\\\\3,\n",
    " 3: 3-411\\\\3;\n",
    "CODESET  * UNTITLED = Universal: all ;\n",
    "END;\n",
    "\n",
    "BEGIN SETS;\n",
    "END;\n",
    "\"\"\"\n",
    "\n",
    "with open(f\"./existing_{N}.nexus\", \"w\") as f:\n",
    "    f.write(preamble)\n",
    "    seq = base_seq\n",
    "    for i in range(N):\n",
    "        tip_name = tip_list[i]\n",
    "        # random replace some places\n",
    "        for _ in range(replace):\n",
    "            j = np.random.randint(0, len_seq)\n",
    "            seq = replace_index(seq, j, random.sample(AGCT, 1)[0])\n",
    "        # tag = f\"i_{np.random.randint(0, 10000):04}\"\n",
    "        line_to_write = tip_name + space + seq + \"\\n\"\n",
    "        f.writelines(line_to_write)\n",
    "    f.write(end)"
   ]
  },
  {
   "cell_type": "code",
   "execution_count": null,
   "metadata": {},
   "outputs": [],
   "source": []
  }
 ],
 "metadata": {
  "kernelspec": {
   "display_name": "vbsky",
   "language": "python",
   "name": "python3"
  },
  "language_info": {
   "codemirror_mode": {
    "name": "ipython",
    "version": 3
   },
   "file_extension": ".py",
   "mimetype": "text/x-python",
   "name": "python",
   "nbconvert_exporter": "python",
   "pygments_lexer": "ipython3",
   "version": "3.9.16"
  },
  "orig_nbformat": 4
 },
 "nbformat": 4,
 "nbformat_minor": 2
}
